{
 "cells": [
  {
   "cell_type": "code",
   "execution_count": 3,
   "id": "93f41ed6-f428-4a08-a032-2fd84998bfad",
   "metadata": {},
   "outputs": [
    {
     "data": {
      "text/html": [
       "<div>\n",
       "<style scoped>\n",
       "    .dataframe tbody tr th:only-of-type {\n",
       "        vertical-align: middle;\n",
       "    }\n",
       "\n",
       "    .dataframe tbody tr th {\n",
       "        vertical-align: top;\n",
       "    }\n",
       "\n",
       "    .dataframe thead th {\n",
       "        text-align: right;\n",
       "    }\n",
       "</style>\n",
       "<table border=\"1\" class=\"dataframe\">\n",
       "  <thead>\n",
       "    <tr style=\"text-align: right;\">\n",
       "      <th>continent</th>\n",
       "      <th>America</th>\n",
       "      <th>Asia</th>\n",
       "      <th>Europe</th>\n",
       "    </tr>\n",
       "    <tr>\n",
       "      <th>college</th>\n",
       "      <th></th>\n",
       "      <th></th>\n",
       "      <th></th>\n",
       "    </tr>\n",
       "  </thead>\n",
       "  <tbody>\n",
       "    <tr>\n",
       "      <th>Lib Arts</th>\n",
       "      <td>1.0</td>\n",
       "      <td>0.0</td>\n",
       "      <td>0.0</td>\n",
       "    </tr>\n",
       "    <tr>\n",
       "      <th>Engineering</th>\n",
       "      <td>1.0</td>\n",
       "      <td>1.0</td>\n",
       "      <td>0.0</td>\n",
       "    </tr>\n",
       "    <tr>\n",
       "      <th>Business</th>\n",
       "      <td>0.0</td>\n",
       "      <td>0.0</td>\n",
       "      <td>1.0</td>\n",
       "    </tr>\n",
       "  </tbody>\n",
       "</table>\n",
       "</div>"
      ],
      "text/plain": [
       "continent    America  Asia  Europe\n",
       "college                           \n",
       "Lib Arts         1.0   0.0     0.0\n",
       "Engineering      1.0   1.0     0.0\n",
       "Business         0.0   0.0     1.0"
      ]
     },
     "execution_count": 3,
     "metadata": {},
     "output_type": "execute_result"
    }
   ],
   "source": [
    "import pandas as pd\n",
    "\n",
    "# Load dataFrame\n",
    "STUDENTS = pd.read_csv('Students2.csv')\n",
    "\n",
    "# A : Write R or Pandas code to de-dup STUDENTS (1pt):\n",
    "\n",
    "STUDENTS = STUDENTS.drop_duplicates()\n",
    "\n",
    "# B : Create a data frame COUNTS storing the count of students for each continent, college pair (2pts):\n",
    "\n",
    "Raw_count = STUDENTS.groupby(['college','continent']).size()\n",
    "COUNTS = Raw_count.to_frame(name='Count')\n",
    "\n",
    "# C : Pivot COUNTS so that continent values become column names (2pts)\n",
    "\n",
    "COUNTS = COUNTS.pivot_table(index='college', columns = 'continent', values = 'Count')\n",
    "\n",
    "# D : If applicable, remove any unnecessary index levels created in part C (1pts):\n",
    "\n",
    "# E : Zero-fill missing values in COUNTS (1pt):\n",
    "\n",
    "COUNTS = COUNTS.fillna(0)\n",
    "\n",
    "# F : Sort COUNTS reverse alphabetically by college name (1pt): \n",
    "\n",
    "COUNTS = COUNTS.sort_values(by='college', ascending=False)\n",
    "\n",
    "COUNTS # We can observe the output is the same as the desired one\n",
    "\n",
    "# Actually, we can do step A through F in only one line \n",
    "# COUNTS = STUDENTS.drop_duplicates().pivot_table(index='college',columns='continent', values='name', aggfunc='size',fill_value=0).sort_values(by='college', ascending = False)"
   ]
  },
  {
   "cell_type": "code",
   "execution_count": null,
   "id": "1f83ccf5-27f3-447a-acb6-386aa4866d23",
   "metadata": {},
   "outputs": [],
   "source": []
  },
  {
   "cell_type": "code",
   "execution_count": null,
   "id": "dd5a5bb2-7e88-47b5-8b9d-4c4a97ba0491",
   "metadata": {},
   "outputs": [],
   "source": []
  },
  {
   "cell_type": "code",
   "execution_count": null,
   "id": "f281650b-84a5-4c06-8cec-08fc55a39fe5",
   "metadata": {},
   "outputs": [],
   "source": []
  },
  {
   "cell_type": "code",
   "execution_count": null,
   "id": "48bfba25-d97b-4947-92da-5d11b3914493",
   "metadata": {},
   "outputs": [],
   "source": []
  }
 ],
 "metadata": {
  "kernelspec": {
   "display_name": "Python 3 (ipykernel)",
   "language": "python",
   "name": "python3"
  },
  "language_info": {
   "codemirror_mode": {
    "name": "ipython",
    "version": 3
   },
   "file_extension": ".py",
   "mimetype": "text/x-python",
   "name": "python",
   "nbconvert_exporter": "python",
   "pygments_lexer": "ipython3",
   "version": "3.8.18"
  }
 },
 "nbformat": 4,
 "nbformat_minor": 5
}
